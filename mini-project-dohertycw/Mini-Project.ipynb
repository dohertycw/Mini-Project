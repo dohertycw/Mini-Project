{
 "cells": [
  {
   "cell_type": "markdown",
   "id": "3236f83c",
   "metadata": {},
   "source": [
    "Now let's try a Neural Network Model!\n",
    "I began by importing our basic packages:"
   ]
  },
  {
   "cell_type": "code",
   "execution_count": 2,
   "id": "b6a07112",
   "metadata": {},
   "outputs": [],
   "source": [
    "import pandas as pd\n",
    "import numpy as np\n",
    "import tensorflow as tf\n",
    "from scipy.linalg import svd"
   ]
  },
  {
   "cell_type": "markdown",
   "id": "a45a9ca1",
   "metadata": {},
   "source": [
    "Again, I imported the coffee data:"
   ]
  },
  {
   "cell_type": "code",
   "execution_count": 3,
   "id": "bb6521c5",
   "metadata": {},
   "outputs": [],
   "source": [
    "data = pd.read_csv('merged_data_cleaned.csv')"
   ]
  },
  {
   "cell_type": "code",
   "execution_count": 4,
   "id": "75f9c2fd",
   "metadata": {
    "scrolled": true
   },
   "outputs": [
    {
     "data": {
      "text/html": [
       "<div>\n",
       "<style scoped>\n",
       "    .dataframe tbody tr th:only-of-type {\n",
       "        vertical-align: middle;\n",
       "    }\n",
       "\n",
       "    .dataframe tbody tr th {\n",
       "        vertical-align: top;\n",
       "    }\n",
       "\n",
       "    .dataframe thead th {\n",
       "        text-align: right;\n",
       "    }\n",
       "</style>\n",
       "<table border=\"1\" class=\"dataframe\">\n",
       "  <thead>\n",
       "    <tr style=\"text-align: right;\">\n",
       "      <th></th>\n",
       "      <th>Unnamed: 0</th>\n",
       "      <th>Species</th>\n",
       "      <th>Owner</th>\n",
       "      <th>Country.of.Origin</th>\n",
       "      <th>Farm.Name</th>\n",
       "      <th>Lot.Number</th>\n",
       "      <th>Mill</th>\n",
       "      <th>ICO.Number</th>\n",
       "      <th>Company</th>\n",
       "      <th>Altitude</th>\n",
       "      <th>...</th>\n",
       "      <th>Color</th>\n",
       "      <th>Category.Two.Defects</th>\n",
       "      <th>Expiration</th>\n",
       "      <th>Certification.Body</th>\n",
       "      <th>Certification.Address</th>\n",
       "      <th>Certification.Contact</th>\n",
       "      <th>unit_of_measurement</th>\n",
       "      <th>altitude_low_meters</th>\n",
       "      <th>altitude_high_meters</th>\n",
       "      <th>altitude_mean_meters</th>\n",
       "    </tr>\n",
       "  </thead>\n",
       "  <tbody>\n",
       "    <tr>\n",
       "      <th>0</th>\n",
       "      <td>0</td>\n",
       "      <td>Arabica</td>\n",
       "      <td>metad plc</td>\n",
       "      <td>Ethiopia</td>\n",
       "      <td>metad plc</td>\n",
       "      <td>NaN</td>\n",
       "      <td>metad plc</td>\n",
       "      <td>2014/2015</td>\n",
       "      <td>metad agricultural developmet plc</td>\n",
       "      <td>1950-2200</td>\n",
       "      <td>...</td>\n",
       "      <td>Green</td>\n",
       "      <td>0</td>\n",
       "      <td>April 3rd, 2016</td>\n",
       "      <td>METAD Agricultural Development plc</td>\n",
       "      <td>309fcf77415a3661ae83e027f7e5f05dad786e44</td>\n",
       "      <td>19fef5a731de2db57d16da10287413f5f99bc2dd</td>\n",
       "      <td>m</td>\n",
       "      <td>1950.0</td>\n",
       "      <td>2200.0</td>\n",
       "      <td>2075.0</td>\n",
       "    </tr>\n",
       "    <tr>\n",
       "      <th>1</th>\n",
       "      <td>1</td>\n",
       "      <td>Arabica</td>\n",
       "      <td>metad plc</td>\n",
       "      <td>Ethiopia</td>\n",
       "      <td>metad plc</td>\n",
       "      <td>NaN</td>\n",
       "      <td>metad plc</td>\n",
       "      <td>2014/2015</td>\n",
       "      <td>metad agricultural developmet plc</td>\n",
       "      <td>1950-2200</td>\n",
       "      <td>...</td>\n",
       "      <td>Green</td>\n",
       "      <td>1</td>\n",
       "      <td>April 3rd, 2016</td>\n",
       "      <td>METAD Agricultural Development plc</td>\n",
       "      <td>309fcf77415a3661ae83e027f7e5f05dad786e44</td>\n",
       "      <td>19fef5a731de2db57d16da10287413f5f99bc2dd</td>\n",
       "      <td>m</td>\n",
       "      <td>1950.0</td>\n",
       "      <td>2200.0</td>\n",
       "      <td>2075.0</td>\n",
       "    </tr>\n",
       "    <tr>\n",
       "      <th>2</th>\n",
       "      <td>2</td>\n",
       "      <td>Arabica</td>\n",
       "      <td>grounds for health admin</td>\n",
       "      <td>Guatemala</td>\n",
       "      <td>san marcos barrancas \"san cristobal cuch</td>\n",
       "      <td>NaN</td>\n",
       "      <td>NaN</td>\n",
       "      <td>NaN</td>\n",
       "      <td>NaN</td>\n",
       "      <td>1600 - 1800 m</td>\n",
       "      <td>...</td>\n",
       "      <td>NaN</td>\n",
       "      <td>0</td>\n",
       "      <td>May 31st, 2011</td>\n",
       "      <td>Specialty Coffee Association</td>\n",
       "      <td>36d0d00a3724338ba7937c52a378d085f2172daa</td>\n",
       "      <td>0878a7d4b9d35ddbf0fe2ce69a2062cceb45a660</td>\n",
       "      <td>m</td>\n",
       "      <td>1600.0</td>\n",
       "      <td>1800.0</td>\n",
       "      <td>1700.0</td>\n",
       "    </tr>\n",
       "    <tr>\n",
       "      <th>3</th>\n",
       "      <td>3</td>\n",
       "      <td>Arabica</td>\n",
       "      <td>yidnekachew dabessa</td>\n",
       "      <td>Ethiopia</td>\n",
       "      <td>yidnekachew dabessa coffee plantation</td>\n",
       "      <td>NaN</td>\n",
       "      <td>wolensu</td>\n",
       "      <td>NaN</td>\n",
       "      <td>yidnekachew debessa coffee plantation</td>\n",
       "      <td>1800-2200</td>\n",
       "      <td>...</td>\n",
       "      <td>Green</td>\n",
       "      <td>2</td>\n",
       "      <td>March 25th, 2016</td>\n",
       "      <td>METAD Agricultural Development plc</td>\n",
       "      <td>309fcf77415a3661ae83e027f7e5f05dad786e44</td>\n",
       "      <td>19fef5a731de2db57d16da10287413f5f99bc2dd</td>\n",
       "      <td>m</td>\n",
       "      <td>1800.0</td>\n",
       "      <td>2200.0</td>\n",
       "      <td>2000.0</td>\n",
       "    </tr>\n",
       "    <tr>\n",
       "      <th>4</th>\n",
       "      <td>4</td>\n",
       "      <td>Arabica</td>\n",
       "      <td>metad plc</td>\n",
       "      <td>Ethiopia</td>\n",
       "      <td>metad plc</td>\n",
       "      <td>NaN</td>\n",
       "      <td>metad plc</td>\n",
       "      <td>2014/2015</td>\n",
       "      <td>metad agricultural developmet plc</td>\n",
       "      <td>1950-2200</td>\n",
       "      <td>...</td>\n",
       "      <td>Green</td>\n",
       "      <td>2</td>\n",
       "      <td>April 3rd, 2016</td>\n",
       "      <td>METAD Agricultural Development plc</td>\n",
       "      <td>309fcf77415a3661ae83e027f7e5f05dad786e44</td>\n",
       "      <td>19fef5a731de2db57d16da10287413f5f99bc2dd</td>\n",
       "      <td>m</td>\n",
       "      <td>1950.0</td>\n",
       "      <td>2200.0</td>\n",
       "      <td>2075.0</td>\n",
       "    </tr>\n",
       "    <tr>\n",
       "      <th>...</th>\n",
       "      <td>...</td>\n",
       "      <td>...</td>\n",
       "      <td>...</td>\n",
       "      <td>...</td>\n",
       "      <td>...</td>\n",
       "      <td>...</td>\n",
       "      <td>...</td>\n",
       "      <td>...</td>\n",
       "      <td>...</td>\n",
       "      <td>...</td>\n",
       "      <td>...</td>\n",
       "      <td>...</td>\n",
       "      <td>...</td>\n",
       "      <td>...</td>\n",
       "      <td>...</td>\n",
       "      <td>...</td>\n",
       "      <td>...</td>\n",
       "      <td>...</td>\n",
       "      <td>...</td>\n",
       "      <td>...</td>\n",
       "      <td>...</td>\n",
       "    </tr>\n",
       "    <tr>\n",
       "      <th>1334</th>\n",
       "      <td>1334</td>\n",
       "      <td>Robusta</td>\n",
       "      <td>luis robles</td>\n",
       "      <td>Ecuador</td>\n",
       "      <td>robustasa</td>\n",
       "      <td>Lavado 1</td>\n",
       "      <td>our own lab</td>\n",
       "      <td>NaN</td>\n",
       "      <td>robustasa</td>\n",
       "      <td>NaN</td>\n",
       "      <td>...</td>\n",
       "      <td>Blue-Green</td>\n",
       "      <td>1</td>\n",
       "      <td>January 18th, 2017</td>\n",
       "      <td>Specialty Coffee Association</td>\n",
       "      <td>ff7c18ad303d4b603ac3f8cff7e611ffc735e720</td>\n",
       "      <td>352d0cf7f3e9be14dad7df644ad65efc27605ae2</td>\n",
       "      <td>m</td>\n",
       "      <td>NaN</td>\n",
       "      <td>NaN</td>\n",
       "      <td>NaN</td>\n",
       "    </tr>\n",
       "    <tr>\n",
       "      <th>1335</th>\n",
       "      <td>1335</td>\n",
       "      <td>Robusta</td>\n",
       "      <td>luis robles</td>\n",
       "      <td>Ecuador</td>\n",
       "      <td>robustasa</td>\n",
       "      <td>Lavado 3</td>\n",
       "      <td>own laboratory</td>\n",
       "      <td>NaN</td>\n",
       "      <td>robustasa</td>\n",
       "      <td>40</td>\n",
       "      <td>...</td>\n",
       "      <td>Blue-Green</td>\n",
       "      <td>0</td>\n",
       "      <td>January 18th, 2017</td>\n",
       "      <td>Specialty Coffee Association</td>\n",
       "      <td>ff7c18ad303d4b603ac3f8cff7e611ffc735e720</td>\n",
       "      <td>352d0cf7f3e9be14dad7df644ad65efc27605ae2</td>\n",
       "      <td>m</td>\n",
       "      <td>40.0</td>\n",
       "      <td>40.0</td>\n",
       "      <td>40.0</td>\n",
       "    </tr>\n",
       "    <tr>\n",
       "      <th>1336</th>\n",
       "      <td>1336</td>\n",
       "      <td>Robusta</td>\n",
       "      <td>james moore</td>\n",
       "      <td>United States</td>\n",
       "      <td>fazenda cazengo</td>\n",
       "      <td>NaN</td>\n",
       "      <td>cafe cazengo</td>\n",
       "      <td>NaN</td>\n",
       "      <td>global opportunity fund</td>\n",
       "      <td>795 meters</td>\n",
       "      <td>...</td>\n",
       "      <td>NaN</td>\n",
       "      <td>6</td>\n",
       "      <td>December 23rd, 2015</td>\n",
       "      <td>Specialty Coffee Association</td>\n",
       "      <td>ff7c18ad303d4b603ac3f8cff7e611ffc735e720</td>\n",
       "      <td>352d0cf7f3e9be14dad7df644ad65efc27605ae2</td>\n",
       "      <td>m</td>\n",
       "      <td>795.0</td>\n",
       "      <td>795.0</td>\n",
       "      <td>795.0</td>\n",
       "    </tr>\n",
       "    <tr>\n",
       "      <th>1337</th>\n",
       "      <td>1337</td>\n",
       "      <td>Robusta</td>\n",
       "      <td>cafe politico</td>\n",
       "      <td>India</td>\n",
       "      <td>NaN</td>\n",
       "      <td>NaN</td>\n",
       "      <td>NaN</td>\n",
       "      <td>14-1118-2014-0087</td>\n",
       "      <td>cafe politico</td>\n",
       "      <td>NaN</td>\n",
       "      <td>...</td>\n",
       "      <td>Green</td>\n",
       "      <td>1</td>\n",
       "      <td>August 25th, 2015</td>\n",
       "      <td>Specialty Coffee Association</td>\n",
       "      <td>ff7c18ad303d4b603ac3f8cff7e611ffc735e720</td>\n",
       "      <td>352d0cf7f3e9be14dad7df644ad65efc27605ae2</td>\n",
       "      <td>m</td>\n",
       "      <td>NaN</td>\n",
       "      <td>NaN</td>\n",
       "      <td>NaN</td>\n",
       "    </tr>\n",
       "    <tr>\n",
       "      <th>1338</th>\n",
       "      <td>1338</td>\n",
       "      <td>Robusta</td>\n",
       "      <td>cafe politico</td>\n",
       "      <td>Vietnam</td>\n",
       "      <td>NaN</td>\n",
       "      <td>NaN</td>\n",
       "      <td>NaN</td>\n",
       "      <td>NaN</td>\n",
       "      <td>cafe politico</td>\n",
       "      <td>NaN</td>\n",
       "      <td>...</td>\n",
       "      <td>None</td>\n",
       "      <td>9</td>\n",
       "      <td>August 25th, 2015</td>\n",
       "      <td>Specialty Coffee Association</td>\n",
       "      <td>ff7c18ad303d4b603ac3f8cff7e611ffc735e720</td>\n",
       "      <td>352d0cf7f3e9be14dad7df644ad65efc27605ae2</td>\n",
       "      <td>m</td>\n",
       "      <td>NaN</td>\n",
       "      <td>NaN</td>\n",
       "      <td>NaN</td>\n",
       "    </tr>\n",
       "  </tbody>\n",
       "</table>\n",
       "<p>1339 rows × 44 columns</p>\n",
       "</div>"
      ],
      "text/plain": [
       "      Unnamed: 0  Species                     Owner Country.of.Origin  \\\n",
       "0              0  Arabica                 metad plc          Ethiopia   \n",
       "1              1  Arabica                 metad plc          Ethiopia   \n",
       "2              2  Arabica  grounds for health admin         Guatemala   \n",
       "3              3  Arabica       yidnekachew dabessa          Ethiopia   \n",
       "4              4  Arabica                 metad plc          Ethiopia   \n",
       "...          ...      ...                       ...               ...   \n",
       "1334        1334  Robusta               luis robles           Ecuador   \n",
       "1335        1335  Robusta               luis robles           Ecuador   \n",
       "1336        1336  Robusta               james moore     United States   \n",
       "1337        1337  Robusta             cafe politico             India   \n",
       "1338        1338  Robusta             cafe politico           Vietnam   \n",
       "\n",
       "                                     Farm.Name Lot.Number            Mill  \\\n",
       "0                                    metad plc        NaN       metad plc   \n",
       "1                                    metad plc        NaN       metad plc   \n",
       "2     san marcos barrancas \"san cristobal cuch        NaN             NaN   \n",
       "3        yidnekachew dabessa coffee plantation        NaN         wolensu   \n",
       "4                                    metad plc        NaN       metad plc   \n",
       "...                                        ...        ...             ...   \n",
       "1334                                 robustasa   Lavado 1     our own lab   \n",
       "1335                                 robustasa   Lavado 3  own laboratory   \n",
       "1336                           fazenda cazengo        NaN    cafe cazengo   \n",
       "1337                                       NaN        NaN             NaN   \n",
       "1338                                       NaN        NaN             NaN   \n",
       "\n",
       "             ICO.Number                                Company       Altitude  \\\n",
       "0             2014/2015      metad agricultural developmet plc      1950-2200   \n",
       "1             2014/2015      metad agricultural developmet plc      1950-2200   \n",
       "2                   NaN                                    NaN  1600 - 1800 m   \n",
       "3                   NaN  yidnekachew debessa coffee plantation      1800-2200   \n",
       "4             2014/2015      metad agricultural developmet plc      1950-2200   \n",
       "...                 ...                                    ...            ...   \n",
       "1334                NaN                              robustasa            NaN   \n",
       "1335                NaN                              robustasa             40   \n",
       "1336                NaN                global opportunity fund     795 meters   \n",
       "1337  14-1118-2014-0087                          cafe politico            NaN   \n",
       "1338                NaN                          cafe politico            NaN   \n",
       "\n",
       "      ...       Color Category.Two.Defects           Expiration  \\\n",
       "0     ...       Green                    0      April 3rd, 2016   \n",
       "1     ...       Green                    1      April 3rd, 2016   \n",
       "2     ...         NaN                    0       May 31st, 2011   \n",
       "3     ...       Green                    2     March 25th, 2016   \n",
       "4     ...       Green                    2      April 3rd, 2016   \n",
       "...   ...         ...                  ...                  ...   \n",
       "1334  ...  Blue-Green                    1   January 18th, 2017   \n",
       "1335  ...  Blue-Green                    0   January 18th, 2017   \n",
       "1336  ...         NaN                    6  December 23rd, 2015   \n",
       "1337  ...       Green                    1    August 25th, 2015   \n",
       "1338  ...        None                    9    August 25th, 2015   \n",
       "\n",
       "                      Certification.Body  \\\n",
       "0     METAD Agricultural Development plc   \n",
       "1     METAD Agricultural Development plc   \n",
       "2           Specialty Coffee Association   \n",
       "3     METAD Agricultural Development plc   \n",
       "4     METAD Agricultural Development plc   \n",
       "...                                  ...   \n",
       "1334        Specialty Coffee Association   \n",
       "1335        Specialty Coffee Association   \n",
       "1336        Specialty Coffee Association   \n",
       "1337        Specialty Coffee Association   \n",
       "1338        Specialty Coffee Association   \n",
       "\n",
       "                         Certification.Address  \\\n",
       "0     309fcf77415a3661ae83e027f7e5f05dad786e44   \n",
       "1     309fcf77415a3661ae83e027f7e5f05dad786e44   \n",
       "2     36d0d00a3724338ba7937c52a378d085f2172daa   \n",
       "3     309fcf77415a3661ae83e027f7e5f05dad786e44   \n",
       "4     309fcf77415a3661ae83e027f7e5f05dad786e44   \n",
       "...                                        ...   \n",
       "1334  ff7c18ad303d4b603ac3f8cff7e611ffc735e720   \n",
       "1335  ff7c18ad303d4b603ac3f8cff7e611ffc735e720   \n",
       "1336  ff7c18ad303d4b603ac3f8cff7e611ffc735e720   \n",
       "1337  ff7c18ad303d4b603ac3f8cff7e611ffc735e720   \n",
       "1338  ff7c18ad303d4b603ac3f8cff7e611ffc735e720   \n",
       "\n",
       "                         Certification.Contact unit_of_measurement  \\\n",
       "0     19fef5a731de2db57d16da10287413f5f99bc2dd                   m   \n",
       "1     19fef5a731de2db57d16da10287413f5f99bc2dd                   m   \n",
       "2     0878a7d4b9d35ddbf0fe2ce69a2062cceb45a660                   m   \n",
       "3     19fef5a731de2db57d16da10287413f5f99bc2dd                   m   \n",
       "4     19fef5a731de2db57d16da10287413f5f99bc2dd                   m   \n",
       "...                                        ...                 ...   \n",
       "1334  352d0cf7f3e9be14dad7df644ad65efc27605ae2                   m   \n",
       "1335  352d0cf7f3e9be14dad7df644ad65efc27605ae2                   m   \n",
       "1336  352d0cf7f3e9be14dad7df644ad65efc27605ae2                   m   \n",
       "1337  352d0cf7f3e9be14dad7df644ad65efc27605ae2                   m   \n",
       "1338  352d0cf7f3e9be14dad7df644ad65efc27605ae2                   m   \n",
       "\n",
       "     altitude_low_meters altitude_high_meters altitude_mean_meters  \n",
       "0                 1950.0               2200.0               2075.0  \n",
       "1                 1950.0               2200.0               2075.0  \n",
       "2                 1600.0               1800.0               1700.0  \n",
       "3                 1800.0               2200.0               2000.0  \n",
       "4                 1950.0               2200.0               2075.0  \n",
       "...                  ...                  ...                  ...  \n",
       "1334                 NaN                  NaN                  NaN  \n",
       "1335                40.0                 40.0                 40.0  \n",
       "1336               795.0                795.0                795.0  \n",
       "1337                 NaN                  NaN                  NaN  \n",
       "1338                 NaN                  NaN                  NaN  \n",
       "\n",
       "[1339 rows x 44 columns]"
      ]
     },
     "execution_count": 4,
     "metadata": {},
     "output_type": "execute_result"
    }
   ],
   "source": [
    "data"
   ]
  },
  {
   "cell_type": "markdown",
   "id": "fa701488",
   "metadata": {},
   "source": [
    "And filtered out everything except for what I wanted."
   ]
  },
  {
   "cell_type": "code",
   "execution_count": 5,
   "id": "1f84bdc8",
   "metadata": {},
   "outputs": [],
   "source": [
    "data2 = data.iloc[:,[3,20,21,30]]"
   ]
  },
  {
   "cell_type": "code",
   "execution_count": 6,
   "id": "d5359096",
   "metadata": {
    "scrolled": true
   },
   "outputs": [
    {
     "data": {
      "text/html": [
       "<div>\n",
       "<style scoped>\n",
       "    .dataframe tbody tr th:only-of-type {\n",
       "        vertical-align: middle;\n",
       "    }\n",
       "\n",
       "    .dataframe tbody tr th {\n",
       "        vertical-align: top;\n",
       "    }\n",
       "\n",
       "    .dataframe thead th {\n",
       "        text-align: right;\n",
       "    }\n",
       "</style>\n",
       "<table border=\"1\" class=\"dataframe\">\n",
       "  <thead>\n",
       "    <tr style=\"text-align: right;\">\n",
       "      <th></th>\n",
       "      <th>Country.of.Origin</th>\n",
       "      <th>Aroma</th>\n",
       "      <th>Flavor</th>\n",
       "      <th>Total.Cup.Points</th>\n",
       "    </tr>\n",
       "  </thead>\n",
       "  <tbody>\n",
       "    <tr>\n",
       "      <th>0</th>\n",
       "      <td>Ethiopia</td>\n",
       "      <td>8.67</td>\n",
       "      <td>8.83</td>\n",
       "      <td>90.58</td>\n",
       "    </tr>\n",
       "    <tr>\n",
       "      <th>1</th>\n",
       "      <td>Ethiopia</td>\n",
       "      <td>8.75</td>\n",
       "      <td>8.67</td>\n",
       "      <td>89.92</td>\n",
       "    </tr>\n",
       "    <tr>\n",
       "      <th>2</th>\n",
       "      <td>Guatemala</td>\n",
       "      <td>8.42</td>\n",
       "      <td>8.50</td>\n",
       "      <td>89.75</td>\n",
       "    </tr>\n",
       "    <tr>\n",
       "      <th>3</th>\n",
       "      <td>Ethiopia</td>\n",
       "      <td>8.17</td>\n",
       "      <td>8.58</td>\n",
       "      <td>89.00</td>\n",
       "    </tr>\n",
       "    <tr>\n",
       "      <th>4</th>\n",
       "      <td>Ethiopia</td>\n",
       "      <td>8.25</td>\n",
       "      <td>8.50</td>\n",
       "      <td>88.83</td>\n",
       "    </tr>\n",
       "    <tr>\n",
       "      <th>...</th>\n",
       "      <td>...</td>\n",
       "      <td>...</td>\n",
       "      <td>...</td>\n",
       "      <td>...</td>\n",
       "    </tr>\n",
       "    <tr>\n",
       "      <th>1334</th>\n",
       "      <td>Ecuador</td>\n",
       "      <td>7.75</td>\n",
       "      <td>7.58</td>\n",
       "      <td>78.75</td>\n",
       "    </tr>\n",
       "    <tr>\n",
       "      <th>1335</th>\n",
       "      <td>Ecuador</td>\n",
       "      <td>7.50</td>\n",
       "      <td>7.67</td>\n",
       "      <td>78.08</td>\n",
       "    </tr>\n",
       "    <tr>\n",
       "      <th>1336</th>\n",
       "      <td>United States</td>\n",
       "      <td>7.33</td>\n",
       "      <td>7.33</td>\n",
       "      <td>77.17</td>\n",
       "    </tr>\n",
       "    <tr>\n",
       "      <th>1337</th>\n",
       "      <td>India</td>\n",
       "      <td>7.42</td>\n",
       "      <td>6.83</td>\n",
       "      <td>75.08</td>\n",
       "    </tr>\n",
       "    <tr>\n",
       "      <th>1338</th>\n",
       "      <td>Vietnam</td>\n",
       "      <td>6.75</td>\n",
       "      <td>6.67</td>\n",
       "      <td>73.75</td>\n",
       "    </tr>\n",
       "  </tbody>\n",
       "</table>\n",
       "<p>1339 rows × 4 columns</p>\n",
       "</div>"
      ],
      "text/plain": [
       "     Country.of.Origin  Aroma  Flavor  Total.Cup.Points\n",
       "0             Ethiopia   8.67    8.83             90.58\n",
       "1             Ethiopia   8.75    8.67             89.92\n",
       "2            Guatemala   8.42    8.50             89.75\n",
       "3             Ethiopia   8.17    8.58             89.00\n",
       "4             Ethiopia   8.25    8.50             88.83\n",
       "...                ...    ...     ...               ...\n",
       "1334           Ecuador   7.75    7.58             78.75\n",
       "1335           Ecuador   7.50    7.67             78.08\n",
       "1336     United States   7.33    7.33             77.17\n",
       "1337             India   7.42    6.83             75.08\n",
       "1338           Vietnam   6.75    6.67             73.75\n",
       "\n",
       "[1339 rows x 4 columns]"
      ]
     },
     "execution_count": 6,
     "metadata": {},
     "output_type": "execute_result"
    }
   ],
   "source": [
    "data2"
   ]
  },
  {
   "cell_type": "code",
   "execution_count": 7,
   "id": "10698987",
   "metadata": {},
   "outputs": [],
   "source": [
    "SA =['Brazil','Guatemala','Mexico']\n",
    "dataSA = data2.loc[data2[\"Country.of.Origin\"].isin(SA)]"
   ]
  },
  {
   "cell_type": "markdown",
   "id": "4ff75198",
   "metadata": {},
   "source": [
    "Due to the nature of tensorflow, I couldn't have string objects as a result to train against, so I converted each country to a number:"
   ]
  },
  {
   "cell_type": "code",
   "execution_count": 8,
   "id": "bcac1c86",
   "metadata": {},
   "outputs": [
    {
     "data": {
      "text/plain": [
       "2       1.0\n",
       "5       2.0\n",
       "22      3.0\n",
       "25      2.0\n",
       "32      2.0\n",
       "       ... \n",
       "1300    3.0\n",
       "1301    3.0\n",
       "1302    2.0\n",
       "1306    3.0\n",
       "1309    1.0\n",
       "Name: Country.of.Origin, Length: 549, dtype: float64"
      ]
     },
     "execution_count": 8,
     "metadata": {},
     "output_type": "execute_result"
    }
   ],
   "source": [
    "dataSAtest = dataSA[\"Country.of.Origin\"].replace({\"Guatemala\":1.,\"Brazil\":2.,\"Mexico\":3.})\n",
    "dataSAtest"
   ]
  },
  {
   "cell_type": "code",
   "execution_count": 9,
   "id": "a16c1c38",
   "metadata": {},
   "outputs": [],
   "source": [
    "dataSANew = dataSA[[\"Aroma\",\"Flavor\",\"Total.Cup.Points\"]]"
   ]
  },
  {
   "cell_type": "markdown",
   "id": "983837cc",
   "metadata": {},
   "source": [
    "I then loaded in the training data to my model:"
   ]
  },
  {
   "cell_type": "code",
   "execution_count": 10,
   "id": "51749525",
   "metadata": {},
   "outputs": [],
   "source": [
    "x = tf.convert_to_tensor(dataSA[[\"Flavor\",\"Aroma\",\"Total.Cup.Points\"]])"
   ]
  },
  {
   "cell_type": "code",
   "execution_count": 11,
   "id": "d6e2fc6e",
   "metadata": {},
   "outputs": [],
   "source": [
    "y = tf.convert_to_tensor(dataSAtest)"
   ]
  },
  {
   "cell_type": "markdown",
   "id": "a5a7d2c9",
   "metadata": {},
   "source": [
    "Building a model; I've chosen to go for a fairly basic example for this case:"
   ]
  },
  {
   "cell_type": "code",
   "execution_count": 12,
   "id": "96db7dba",
   "metadata": {},
   "outputs": [],
   "source": [
    "modelnew = tf.keras.models.Sequential([\n",
    "  tf.keras.layers.Flatten(input_shape=(3, 1)),\n",
    "  tf.keras.layers.Dense(45, activation='sigmoid'),\n",
    "  tf.keras.layers.Dense(30, activation='relu'),\n",
    "  tf.keras.layers.Dense(15, activation='softmax')\n",
    "])"
   ]
  },
  {
   "cell_type": "code",
   "execution_count": 13,
   "id": "943b595f",
   "metadata": {},
   "outputs": [],
   "source": [
    "modelnew.compile(optimizer='adam',\n",
    "              loss='sparse_categorical_crossentropy',\n",
    "              metrics=['accuracy'])"
   ]
  },
  {
   "cell_type": "markdown",
   "id": "373ca824",
   "metadata": {},
   "source": [
    "And then training it against our original X values, running it for 30 epochs:"
   ]
  },
  {
   "cell_type": "code",
   "execution_count": 68,
   "id": "54e36b1b",
   "metadata": {},
   "outputs": [],
   "source": [
    "X_train = x[..., np.newaxis,np.newaxis]"
   ]
  },
  {
   "cell_type": "code",
   "execution_count": 69,
   "id": "f9f0fe50",
   "metadata": {
    "scrolled": true
   },
   "outputs": [
    {
     "name": "stdout",
     "output_type": "stream",
     "text": [
      "Epoch 1/30\n",
      "18/18 [==============================] - 0s 5ms/step - loss: 1.0753 - accuracy: 0.4299\n",
      "Epoch 2/30\n",
      "18/18 [==============================] - 0s 5ms/step - loss: 1.0767 - accuracy: 0.4299\n",
      "Epoch 3/30\n",
      "18/18 [==============================] - 0s 5ms/step - loss: 1.0730 - accuracy: 0.4299\n",
      "Epoch 4/30\n",
      "18/18 [==============================] - 0s 5ms/step - loss: 1.0735 - accuracy: 0.4299\n",
      "Epoch 5/30\n",
      "18/18 [==============================] - 0s 4ms/step - loss: 1.0730 - accuracy: 0.4299\n",
      "Epoch 6/30\n",
      "18/18 [==============================] - 0s 4ms/step - loss: 1.0756 - accuracy: 0.4299\n",
      "Epoch 7/30\n",
      "18/18 [==============================] - 0s 4ms/step - loss: 1.0724 - accuracy: 0.4299\n",
      "Epoch 8/30\n",
      "18/18 [==============================] - 0s 4ms/step - loss: 1.0720 - accuracy: 0.4299\n",
      "Epoch 9/30\n",
      "18/18 [==============================] - 0s 4ms/step - loss: 1.0741 - accuracy: 0.4299\n",
      "Epoch 10/30\n",
      "18/18 [==============================] - 0s 4ms/step - loss: 1.0740 - accuracy: 0.4299\n",
      "Epoch 11/30\n",
      "18/18 [==============================] - 0s 4ms/step - loss: 1.0772 - accuracy: 0.4299\n",
      "Epoch 12/30\n",
      "18/18 [==============================] - 0s 3ms/step - loss: 1.0757 - accuracy: 0.4299\n",
      "Epoch 13/30\n",
      "18/18 [==============================] - 0s 3ms/step - loss: 1.0736 - accuracy: 0.4299\n",
      "Epoch 14/30\n",
      "18/18 [==============================] - 0s 3ms/step - loss: 1.0727 - accuracy: 0.4299\n",
      "Epoch 15/30\n",
      "18/18 [==============================] - 0s 3ms/step - loss: 1.0772 - accuracy: 0.4299\n",
      "Epoch 16/30\n",
      "18/18 [==============================] - 0s 3ms/step - loss: 1.0767 - accuracy: 0.4299\n",
      "Epoch 17/30\n",
      "18/18 [==============================] - 0s 3ms/step - loss: 1.0715 - accuracy: 0.4299\n",
      "Epoch 18/30\n",
      "18/18 [==============================] - 0s 3ms/step - loss: 1.0733 - accuracy: 0.4299\n",
      "Epoch 19/30\n",
      "18/18 [==============================] - 0s 4ms/step - loss: 1.0731 - accuracy: 0.4299\n",
      "Epoch 20/30\n",
      "18/18 [==============================] - 0s 3ms/step - loss: 1.0731 - accuracy: 0.4299\n",
      "Epoch 21/30\n",
      "18/18 [==============================] - 0s 3ms/step - loss: 1.0733 - accuracy: 0.4299\n",
      "Epoch 22/30\n",
      "18/18 [==============================] - 0s 3ms/step - loss: 1.0730 - accuracy: 0.4299\n",
      "Epoch 23/30\n",
      "18/18 [==============================] - 0s 3ms/step - loss: 1.0728 - accuracy: 0.4299\n",
      "Epoch 24/30\n",
      "18/18 [==============================] - 0s 3ms/step - loss: 1.0724 - accuracy: 0.4299\n",
      "Epoch 25/30\n",
      "18/18 [==============================] - 0s 3ms/step - loss: 1.0755 - accuracy: 0.4299\n",
      "Epoch 26/30\n",
      "18/18 [==============================] - 0s 3ms/step - loss: 1.0728 - accuracy: 0.4299\n",
      "Epoch 27/30\n",
      "18/18 [==============================] - 0s 3ms/step - loss: 1.0732 - accuracy: 0.4299\n",
      "Epoch 28/30\n",
      "18/18 [==============================] - 0s 3ms/step - loss: 1.0719 - accuracy: 0.4299\n",
      "Epoch 29/30\n",
      "18/18 [==============================] - 0s 3ms/step - loss: 1.0736 - accuracy: 0.4299\n",
      "Epoch 30/30\n",
      "18/18 [==============================] - 0s 3ms/step - loss: 1.0746 - accuracy: 0.4299\n"
     ]
    },
    {
     "data": {
      "text/plain": [
       "<tensorflow.python.keras.callbacks.History at 0x1c5f79c55e0>"
      ]
     },
     "execution_count": 69,
     "metadata": {},
     "output_type": "execute_result"
    }
   ],
   "source": [
    "modelnew.fit(X_train, y, epochs=30)"
   ]
  },
  {
   "cell_type": "code",
   "execution_count": 70,
   "id": "7bd4bc5a",
   "metadata": {},
   "outputs": [
    {
     "data": {
      "text/plain": [
       "[1.0709362030029297, 0.4298724830150604]"
      ]
     },
     "execution_count": 70,
     "metadata": {},
     "output_type": "execute_result"
    }
   ],
   "source": [
    "modelnew.evaluate(dataSA[[\"Aroma\",\"Flavor\",\"Total.Cup.Points\"]], dataSAtest, verbose=False)"
   ]
  },
  {
   "cell_type": "markdown",
   "id": "ed4c7e7b",
   "metadata": {},
   "source": [
    "42.9% Accuracy isn't terrible, but it's not great. Let's see if we can get better with a different model."
   ]
  },
  {
   "cell_type": "markdown",
   "id": "3427f971",
   "metadata": {},
   "source": [
    "Basing this model on the network from \"Gradient-based learning applied to document recognition\", by Yann LeCun, Léon Bottou, Yoshua Bengio, and Patrick Haffner, we try again. A large difference to note here is that we're dealing with one dimensional convolutions and pooling rather than the 2D seen in class."
   ]
  },
  {
   "cell_type": "code",
   "execution_count": 80,
   "id": "6f1a372a",
   "metadata": {},
   "outputs": [],
   "source": [
    "modelcomplex = tf.keras.models.Sequential([\n",
    "  tf.keras.layers.Conv1D(6,10, activation='relu', padding='same', input_shape=(3, 1, 1)),\n",
    "  tf.keras.layers.MaxPooling2D(1,1,'same'),\n",
    "  tf.keras.layers.Conv1D(16, 1, activation='relu'),\n",
    "  tf.keras.layers.MaxPooling2D(1,1,'same'),\n",
    "  tf.keras.layers.Conv1D(120, 1, activation='relu'),\n",
    "  tf.keras.layers.Flatten(),\n",
    "  tf.keras.layers.Dense(84, activation='relu'),\n",
    "  tf.keras.layers.Dense(10, activation='softmax')])"
   ]
  },
  {
   "cell_type": "code",
   "execution_count": 81,
   "id": "26e4c2fa",
   "metadata": {},
   "outputs": [],
   "source": [
    "modelcomplex.compile(loss='categorical_crossentropy', optimizer='adam', metrics=['accuracy'])"
   ]
  },
  {
   "cell_type": "code",
   "execution_count": 82,
   "id": "1bf50870",
   "metadata": {},
   "outputs": [],
   "source": [
    "Y_train = tf.keras.utils.to_categorical(y, 10)"
   ]
  },
  {
   "cell_type": "code",
   "execution_count": 83,
   "id": "1ab2ca17",
   "metadata": {},
   "outputs": [
    {
     "name": "stdout",
     "output_type": "stream",
     "text": [
      "Epoch 1/20\n",
      "5/5 [==============================] - 6s 66ms/step - loss: 2.3849 - accuracy: 0.2058\n",
      "Epoch 2/20\n",
      "5/5 [==============================] - 0s 5ms/step - loss: 1.2896 - accuracy: 0.3843\n",
      "Epoch 3/20\n",
      "5/5 [==============================] - 0s 5ms/step - loss: 1.1507 - accuracy: 0.3333\n",
      "Epoch 4/20\n",
      "5/5 [==============================] - 0s 5ms/step - loss: 1.1126 - accuracy: 0.4299\n",
      "Epoch 5/20\n",
      "5/5 [==============================] - 0s 5ms/step - loss: 1.0924 - accuracy: 0.3770\n",
      "Epoch 6/20\n",
      "5/5 [==============================] - 0s 5ms/step - loss: 1.0972 - accuracy: 0.3698\n",
      "Epoch 7/20\n",
      "5/5 [==============================] - 0s 5ms/step - loss: 1.0809 - accuracy: 0.4299\n",
      "Epoch 8/20\n",
      "5/5 [==============================] - 0s 5ms/step - loss: 1.0848 - accuracy: 0.3789\n",
      "Epoch 9/20\n",
      "5/5 [==============================] - 0s 5ms/step - loss: 1.0743 - accuracy: 0.4317\n",
      "Epoch 10/20\n",
      "5/5 [==============================] - 0s 5ms/step - loss: 1.0879 - accuracy: 0.4299\n",
      "Epoch 11/20\n",
      "5/5 [==============================] - 0s 5ms/step - loss: 1.0819 - accuracy: 0.4317\n",
      "Epoch 12/20\n",
      "5/5 [==============================] - 0s 5ms/step - loss: 1.0805 - accuracy: 0.4208\n",
      "Epoch 13/20\n",
      "5/5 [==============================] - 0s 5ms/step - loss: 1.0783 - accuracy: 0.4299\n",
      "Epoch 14/20\n",
      "5/5 [==============================] - 0s 5ms/step - loss: 1.0757 - accuracy: 0.4299\n",
      "Epoch 15/20\n",
      "5/5 [==============================] - 0s 5ms/step - loss: 1.0760 - accuracy: 0.4299\n",
      "Epoch 16/20\n",
      "5/5 [==============================] - 0s 5ms/step - loss: 1.0821 - accuracy: 0.4262\n",
      "Epoch 17/20\n",
      "5/5 [==============================] - 0s 5ms/step - loss: 1.0762 - accuracy: 0.4299\n",
      "Epoch 18/20\n",
      "5/5 [==============================] - 0s 5ms/step - loss: 1.0774 - accuracy: 0.4299\n",
      "Epoch 19/20\n",
      "5/5 [==============================] - 0s 6ms/step - loss: 1.0805 - accuracy: 0.4299\n",
      "Epoch 20/20\n",
      "5/5 [==============================] - 0s 5ms/step - loss: 1.0785 - accuracy: 0.4299\n"
     ]
    },
    {
     "data": {
      "text/plain": [
       "<tensorflow.python.keras.callbacks.History at 0x1c5f7c95640>"
      ]
     },
     "execution_count": 83,
     "metadata": {},
     "output_type": "execute_result"
    }
   ],
   "source": [
    "modelcomplex.fit(X_train, Y_train, batch_size=128, epochs=20)"
   ]
  },
  {
   "cell_type": "code",
   "execution_count": 89,
   "id": "a3518f97",
   "metadata": {},
   "outputs": [
    {
     "name": "stderr",
     "output_type": "stream",
     "text": [
      "C:\\Users\\doher\\AppData\\Local\\Temp\\ipykernel_324\\3536406321.py:1: FutureWarning: Support for multi-dimensional indexing (e.g. `obj[:, None]`) is deprecated and will be removed in a future version.  Convert to a numpy array before indexing instead.\n",
      "  y_test = dataSAtest[...,np.newaxis]\n"
     ]
    }
   ],
   "source": [
    "y_test = dataSAtest[...,np.newaxis]"
   ]
  },
  {
   "cell_type": "code",
   "execution_count": 91,
   "id": "797106fa",
   "metadata": {},
   "outputs": [
    {
     "data": {
      "text/plain": [
       "[1.0709362030029297, 0.4298724830150604]"
      ]
     },
     "execution_count": 91,
     "metadata": {},
     "output_type": "execute_result"
    }
   ],
   "source": [
    "modelnew.evaluate(dataSA[[\"Aroma\",\"Flavor\",\"Total.Cup.Points\"]], y_test, verbose=False)"
   ]
  },
  {
   "cell_type": "markdown",
   "id": "9b9bbf4f",
   "metadata": {},
   "source": [
    "Again I seem to be capped at 42% accuracy! It's entirely possible that this is the most accurate I can get my model to be without greater parsing of the data. When compared to the SVM model, it has greater success, but it's likely that due to how similar each data point is that it becomes difficult to discern what's what with a great degree of accuracy."
   ]
  },
  {
   "cell_type": "code",
   "execution_count": null,
   "id": "f1797830",
   "metadata": {},
   "outputs": [],
   "source": []
  }
 ],
 "metadata": {
  "kernelspec": {
   "display_name": "Python [conda env:tf]",
   "language": "python",
   "name": "conda-env-tf-py"
  },
  "language_info": {
   "codemirror_mode": {
    "name": "ipython",
    "version": 3
   },
   "file_extension": ".py",
   "mimetype": "text/x-python",
   "name": "python",
   "nbconvert_exporter": "python",
   "pygments_lexer": "ipython3",
   "version": "3.9.12"
  }
 },
 "nbformat": 4,
 "nbformat_minor": 5
}
